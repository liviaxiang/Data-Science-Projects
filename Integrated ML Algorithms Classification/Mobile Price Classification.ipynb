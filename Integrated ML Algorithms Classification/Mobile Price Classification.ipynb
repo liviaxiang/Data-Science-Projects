{
 "cells": [
  {
   "cell_type": "markdown",
   "id": "14f93197",
   "metadata": {},
   "source": [
    "## Project Mobile Price Classification \n",
    "\n",
    "## GOAL \n",
    "Find the best machine learning model/method for our dataset\n",
    "<br/>\n",
    "## Executive Summary\n",
    "This is a mobile price classification dataset from Kaggle. The reason that I choose this dataset is that it is a supervised learning problem. We are examing machine learning algorithms on the mobile dataset to predict the mobile price and decided which model is the best one for this dataset. <br/>\n",
    "\n",
    "we will be using three methods<br/>\n",
    "### \"i\":  Classifier methods <br/>\n",
    "### \"ii\": Ensemble method  <br/>\n",
    "### \"iii\":Deep learning, neural network method"
   ]
  },
  {
   "cell_type": "code",
   "execution_count": 8,
   "id": "2a671666",
   "metadata": {},
   "outputs": [
    {
     "name": "stdout",
     "output_type": "stream",
     "text": [
      "Collecting tensorflow\n",
      "  Downloading tensorflow-2.9.1-cp38-cp38-macosx_10_14_x86_64.whl (228.5 MB)\n",
      "\u001b[2K     \u001b[90m━━━━━━━━━━━━━━━━━━━━━━━━━━━━━━━━━━━━━━━\u001b[0m \u001b[32m228.5/228.5 MB\u001b[0m \u001b[31m3.9 MB/s\u001b[0m eta \u001b[36m0:00:00\u001b[0m00:01\u001b[0m00:02\u001b[0m\n",
      "\u001b[?25hRequirement already satisfied: wrapt>=1.11.0 in /Users/XiangLi/opt/anaconda3/lib/python3.8/site-packages (from tensorflow) (1.12.1)\n",
      "Collecting termcolor>=1.1.0\n",
      "  Downloading termcolor-1.1.0.tar.gz (3.9 kB)\n",
      "  Preparing metadata (setup.py) ... \u001b[?25ldone\n",
      "\u001b[?25hRequirement already satisfied: six>=1.12.0 in /Users/XiangLi/opt/anaconda3/lib/python3.8/site-packages (from tensorflow) (1.16.0)\n",
      "Requirement already satisfied: setuptools in /Users/XiangLi/opt/anaconda3/lib/python3.8/site-packages (from tensorflow) (61.2.0)\n",
      "Collecting gast<=0.4.0,>=0.2.1\n",
      "  Downloading gast-0.4.0-py3-none-any.whl (9.8 kB)\n",
      "Requirement already satisfied: h5py>=2.9.0 in /Users/XiangLi/opt/anaconda3/lib/python3.8/site-packages (from tensorflow) (2.10.0)\n",
      "Collecting google-pasta>=0.1.1\n",
      "  Downloading google_pasta-0.2.0-py3-none-any.whl (57 kB)\n",
      "\u001b[2K     \u001b[90m━━━━━━━━━━━━━━━━━━━━━━━━━━━━━━━━━━━━━━━━\u001b[0m \u001b[32m57.5/57.5 kB\u001b[0m \u001b[31m2.0 MB/s\u001b[0m eta \u001b[36m0:00:00\u001b[0m\n",
      "\u001b[?25hCollecting grpcio<2.0,>=1.24.3\n",
      "  Downloading grpcio-1.46.3-cp38-cp38-macosx_10_10_x86_64.whl (4.4 MB)\n",
      "\u001b[2K     \u001b[90m━━━━━━━━━━━━━━━━━━━━━━━━━━━━━━━━━━━━━━━━\u001b[0m \u001b[32m4.4/4.4 MB\u001b[0m \u001b[31m4.7 MB/s\u001b[0m eta \u001b[36m0:00:00\u001b[0m00:01\u001b[0m00:01\u001b[0m\n",
      "\u001b[?25hCollecting tensorboard<2.10,>=2.9\n",
      "  Downloading tensorboard-2.9.1-py3-none-any.whl (5.8 MB)\n",
      "\u001b[2K     \u001b[90m━━━━━━━━━━━━━━━━━━━━━━━━━━━━━━━━━━━━━━━━\u001b[0m \u001b[32m5.8/5.8 MB\u001b[0m \u001b[31m5.2 MB/s\u001b[0m eta \u001b[36m0:00:00\u001b[0m00:01\u001b[0m00:01\u001b[0m\n",
      "\u001b[?25hCollecting opt-einsum>=2.3.2\n",
      "  Downloading opt_einsum-3.3.0-py3-none-any.whl (65 kB)\n",
      "\u001b[2K     \u001b[90m━━━━━━━━━━━━━━━━━━━━━━━━━━━━━━━━━━━━━━━━\u001b[0m \u001b[32m65.5/65.5 kB\u001b[0m \u001b[31m2.6 MB/s\u001b[0m eta \u001b[36m0:00:00\u001b[0m\n",
      "\u001b[?25hCollecting keras-preprocessing>=1.1.1\n",
      "  Downloading Keras_Preprocessing-1.1.2-py2.py3-none-any.whl (42 kB)\n",
      "\u001b[2K     \u001b[90m━━━━━━━━━━━━━━━━━━━━━━━━━━━━━━━━━━━━━━━━\u001b[0m \u001b[32m42.6/42.6 kB\u001b[0m \u001b[31m1.6 MB/s\u001b[0m eta \u001b[36m0:00:00\u001b[0m\n",
      "\u001b[?25hCollecting tensorflow-io-gcs-filesystem>=0.23.1\n",
      "  Downloading tensorflow_io_gcs_filesystem-0.26.0-cp38-cp38-macosx_10_14_x86_64.whl (1.6 MB)\n",
      "\u001b[2K     \u001b[90m━━━━━━━━━━━━━━━━━━━━━━━━━━━━━━━━━━━━━━━━\u001b[0m \u001b[32m1.6/1.6 MB\u001b[0m \u001b[31m5.2 MB/s\u001b[0m eta \u001b[36m0:00:00\u001b[0m00:01\u001b[0m00:01\u001b[0m\n",
      "\u001b[?25hRequirement already satisfied: keras<2.10.0,>=2.9.0rc0 in /Users/XiangLi/opt/anaconda3/lib/python3.8/site-packages (from tensorflow) (2.9.0)\n",
      "Requirement already satisfied: numpy>=1.20 in /Users/XiangLi/opt/anaconda3/lib/python3.8/site-packages (from tensorflow) (1.21.5)\n",
      "Collecting absl-py>=1.0.0\n",
      "  Downloading absl_py-1.1.0-py3-none-any.whl (123 kB)\n",
      "\u001b[2K     \u001b[90m━━━━━━━━━━━━━━━━━━━━━━━━━━━━━━━━━━━━━━━\u001b[0m \u001b[32m123.7/123.7 kB\u001b[0m \u001b[31m3.4 MB/s\u001b[0m eta \u001b[36m0:00:00\u001b[0m\n",
      "\u001b[?25hCollecting flatbuffers<2,>=1.12\n",
      "  Downloading flatbuffers-1.12-py2.py3-none-any.whl (15 kB)\n",
      "Requirement already satisfied: typing-extensions>=3.6.6 in /Users/XiangLi/opt/anaconda3/lib/python3.8/site-packages (from tensorflow) (4.1.1)\n",
      "Collecting libclang>=13.0.0\n",
      "  Downloading libclang-14.0.1-py2.py3-none-macosx_10_9_x86_64.whl (13.2 MB)\n",
      "\u001b[2K     \u001b[90m━━━━━━━━━━━━━━━━━━━━━━━━━━━━━━━━━━━━━━━━\u001b[0m \u001b[32m13.2/13.2 MB\u001b[0m \u001b[31m5.4 MB/s\u001b[0m eta \u001b[36m0:00:00\u001b[0m00:01\u001b[0m00:01\u001b[0m\n",
      "\u001b[?25hRequirement already satisfied: packaging in /Users/XiangLi/opt/anaconda3/lib/python3.8/site-packages (from tensorflow) (21.3)\n",
      "Collecting astunparse>=1.6.0\n",
      "  Downloading astunparse-1.6.3-py2.py3-none-any.whl (12 kB)\n",
      "Collecting tensorflow-estimator<2.10.0,>=2.9.0rc0\n",
      "  Downloading tensorflow_estimator-2.9.0-py2.py3-none-any.whl (438 kB)\n",
      "\u001b[2K     \u001b[90m━━━━━━━━━━━━━━━━━━━━━━━━━━━━━━━━━━━━━━━\u001b[0m \u001b[32m438.7/438.7 kB\u001b[0m \u001b[31m4.4 MB/s\u001b[0m eta \u001b[36m0:00:00\u001b[0ma \u001b[36m0:00:01\u001b[0m\n",
      "\u001b[?25hCollecting protobuf<3.20,>=3.9.2\n",
      "  Downloading protobuf-3.19.4-cp38-cp38-macosx_10_9_x86_64.whl (961 kB)\n",
      "\u001b[2K     \u001b[90m━━━━━━━━━━━━━━━━━━━━━━━━━━━━━━━━━━━━━━━\u001b[0m \u001b[32m961.7/961.7 kB\u001b[0m \u001b[31m4.0 MB/s\u001b[0m eta \u001b[36m0:00:00\u001b[0m00:01\u001b[0m00:01\u001b[0m\n",
      "\u001b[?25hRequirement already satisfied: wheel<1.0,>=0.23.0 in /Users/XiangLi/opt/anaconda3/lib/python3.8/site-packages (from astunparse>=1.6.0->tensorflow) (0.37.1)\n",
      "Collecting tensorboard-plugin-wit>=1.6.0\n",
      "  Downloading tensorboard_plugin_wit-1.8.1-py3-none-any.whl (781 kB)\n",
      "\u001b[2K     \u001b[90m━━━━━━━━━━━━━━━━━━━━━━━━━━━━━━━━━━━━━━━\u001b[0m \u001b[32m781.3/781.3 kB\u001b[0m \u001b[31m4.4 MB/s\u001b[0m eta \u001b[36m0:00:00\u001b[0ma \u001b[36m0:00:01\u001b[0m\n",
      "\u001b[?25hRequirement already satisfied: werkzeug>=1.0.1 in /Users/XiangLi/opt/anaconda3/lib/python3.8/site-packages (from tensorboard<2.10,>=2.9->tensorflow) (2.0.3)\n",
      "Collecting tensorboard-data-server<0.7.0,>=0.6.0\n",
      "  Downloading tensorboard_data_server-0.6.1-py3-none-macosx_10_9_x86_64.whl (3.5 MB)\n",
      "\u001b[2K     \u001b[90m━━━━━━━━━━━━━━━━━━━━━━━━━━━━━━━━━━━━━━━━\u001b[0m \u001b[32m3.5/3.5 MB\u001b[0m \u001b[31m4.8 MB/s\u001b[0m eta \u001b[36m0:00:00\u001b[0m00:01\u001b[0m00:01\u001b[0m\n",
      "\u001b[?25hCollecting markdown>=2.6.8\n",
      "  Downloading Markdown-3.3.7-py3-none-any.whl (97 kB)\n",
      "\u001b[2K     \u001b[90m━━━━━━━━━━━━━━━━━━━━━━━━━━━━━━━━━━━━━━━━\u001b[0m \u001b[32m97.8/97.8 kB\u001b[0m \u001b[31m3.0 MB/s\u001b[0m eta \u001b[36m0:00:00\u001b[0m\n",
      "\u001b[?25hRequirement already satisfied: requests<3,>=2.21.0 in /Users/XiangLi/opt/anaconda3/lib/python3.8/site-packages (from tensorboard<2.10,>=2.9->tensorflow) (2.27.1)\n",
      "Collecting google-auth-oauthlib<0.5,>=0.4.1\n",
      "  Downloading google_auth_oauthlib-0.4.6-py2.py3-none-any.whl (18 kB)\n",
      "Collecting google-auth<3,>=1.6.3\n",
      "  Downloading google_auth-2.8.0-py2.py3-none-any.whl (164 kB)\n",
      "\u001b[2K     \u001b[90m━━━━━━━━━━━━━━━━━━━━━━━━━━━━━━━━━━━━━━━\u001b[0m \u001b[32m164.2/164.2 kB\u001b[0m \u001b[31m3.4 MB/s\u001b[0m eta \u001b[36m0:00:00\u001b[0m00:01\u001b[0m\n",
      "\u001b[?25hRequirement already satisfied: pyparsing!=3.0.5,>=2.0.2 in /Users/XiangLi/opt/anaconda3/lib/python3.8/site-packages (from packaging->tensorflow) (3.0.4)\n",
      "Collecting rsa<5,>=3.1.4\n",
      "  Downloading rsa-4.8-py3-none-any.whl (39 kB)\n",
      "Requirement already satisfied: cachetools<6.0,>=2.0.0 in /Users/XiangLi/opt/anaconda3/lib/python3.8/site-packages (from google-auth<3,>=1.6.3->tensorboard<2.10,>=2.9->tensorflow) (5.1.0)\n",
      "Collecting pyasn1-modules>=0.2.1\n",
      "  Downloading pyasn1_modules-0.2.8-py2.py3-none-any.whl (155 kB)\n",
      "\u001b[2K     \u001b[90m━━━━━━━━━━━━━━━━━━━━━━━━━━━━━━━━━━━━━━━\u001b[0m \u001b[32m155.3/155.3 kB\u001b[0m \u001b[31m3.4 MB/s\u001b[0m eta \u001b[36m0:00:00\u001b[0m00:01\u001b[0m\n",
      "\u001b[?25hCollecting requests-oauthlib>=0.7.0\n",
      "  Downloading requests_oauthlib-1.3.1-py2.py3-none-any.whl (23 kB)\n",
      "Requirement already satisfied: importlib-metadata>=4.4 in /Users/XiangLi/opt/anaconda3/lib/python3.8/site-packages (from markdown>=2.6.8->tensorboard<2.10,>=2.9->tensorflow) (4.11.3)\n",
      "Requirement already satisfied: urllib3<1.27,>=1.21.1 in /Users/XiangLi/opt/anaconda3/lib/python3.8/site-packages (from requests<3,>=2.21.0->tensorboard<2.10,>=2.9->tensorflow) (1.26.9)\n",
      "Requirement already satisfied: charset-normalizer~=2.0.0 in /Users/XiangLi/opt/anaconda3/lib/python3.8/site-packages (from requests<3,>=2.21.0->tensorboard<2.10,>=2.9->tensorflow) (2.0.4)\n",
      "Requirement already satisfied: idna<4,>=2.5 in /Users/XiangLi/opt/anaconda3/lib/python3.8/site-packages (from requests<3,>=2.21.0->tensorboard<2.10,>=2.9->tensorflow) (3.3)\n",
      "Requirement already satisfied: certifi>=2017.4.17 in /Users/XiangLi/opt/anaconda3/lib/python3.8/site-packages (from requests<3,>=2.21.0->tensorboard<2.10,>=2.9->tensorflow) (2022.6.15)\n",
      "Requirement already satisfied: zipp>=0.5 in /Users/XiangLi/opt/anaconda3/lib/python3.8/site-packages (from importlib-metadata>=4.4->markdown>=2.6.8->tensorboard<2.10,>=2.9->tensorflow) (3.8.0)\n",
      "Collecting pyasn1<0.5.0,>=0.4.6\n",
      "  Downloading pyasn1-0.4.8-py2.py3-none-any.whl (77 kB)\n",
      "\u001b[2K     \u001b[90m━━━━━━━━━━━━━━━━━━━━━━━━━━━━━━━━━━━━━━━━\u001b[0m \u001b[32m77.1/77.1 kB\u001b[0m \u001b[31m2.8 MB/s\u001b[0m eta \u001b[36m0:00:00\u001b[0m\n",
      "\u001b[?25hCollecting oauthlib>=3.0.0\n",
      "  Downloading oauthlib-3.2.0-py3-none-any.whl (151 kB)\n",
      "\u001b[2K     \u001b[90m━━━━━━━━━━━━━━━━━━━━━━━━━━━━━━━━━━━━━━━\u001b[0m \u001b[32m151.5/151.5 kB\u001b[0m \u001b[31m3.3 MB/s\u001b[0m eta \u001b[36m0:00:00\u001b[0ma \u001b[36m0:00:01\u001b[0m\n",
      "\u001b[?25hBuilding wheels for collected packages: termcolor\n",
      "  Building wheel for termcolor (setup.py) ... \u001b[?25ldone\n",
      "\u001b[?25h  Created wheel for termcolor: filename=termcolor-1.1.0-py3-none-any.whl size=4848 sha256=11932fbe056d3554e61c8d2ce767e901eeaa2a7b18ea2293195023c0fbf3352d\n",
      "  Stored in directory: /Users/XiangLi/Library/Caches/pip/wheels/a0/16/9c/5473df82468f958445479c59e784896fa24f4a5fc024b0f501\n",
      "Successfully built termcolor\n"
     ]
    },
    {
     "name": "stdout",
     "output_type": "stream",
     "text": [
      "Installing collected packages: termcolor, tensorboard-plugin-wit, pyasn1, libclang, flatbuffers, tensorflow-io-gcs-filesystem, tensorflow-estimator, tensorboard-data-server, rsa, pyasn1-modules, protobuf, opt-einsum, oauthlib, keras-preprocessing, grpcio, google-pasta, gast, astunparse, absl-py, requests-oauthlib, markdown, google-auth, google-auth-oauthlib, tensorboard, tensorflow\n",
      "  Attempting uninstall: protobuf\n",
      "    Found existing installation: protobuf 3.20.1\n",
      "    Uninstalling protobuf-3.20.1:\n",
      "      Successfully uninstalled protobuf-3.20.1\n",
      "Successfully installed absl-py-1.1.0 astunparse-1.6.3 flatbuffers-1.12 gast-0.4.0 google-auth-2.8.0 google-auth-oauthlib-0.4.6 google-pasta-0.2.0 grpcio-1.46.3 keras-preprocessing-1.1.2 libclang-14.0.1 markdown-3.3.7 oauthlib-3.2.0 opt-einsum-3.3.0 protobuf-3.19.4 pyasn1-0.4.8 pyasn1-modules-0.2.8 requests-oauthlib-1.3.1 rsa-4.8 tensorboard-2.9.1 tensorboard-data-server-0.6.1 tensorboard-plugin-wit-1.8.1 tensorflow-2.9.1 tensorflow-estimator-2.9.0 tensorflow-io-gcs-filesystem-0.26.0 termcolor-1.1.0\n",
      "\u001b[33mWARNING: There was an error checking the latest version of pip.\u001b[0m\u001b[33m\n",
      "\u001b[0m"
     ]
    }
   ],
   "source": [
    "!pip install tensorflow"
   ]
  },
  {
   "cell_type": "code",
   "execution_count": null,
   "id": "ad78e06a",
   "metadata": {},
   "outputs": [],
   "source": []
  },
  {
   "cell_type": "code",
   "execution_count": 9,
   "id": "489b1ba8",
   "metadata": {},
   "outputs": [],
   "source": [
    "import numpy as np # linear algebra\n",
    "import pandas as pd # data processing, CSV file I/O (e.g. pd.read_csv)\n",
    "import matplotlib.pyplot as plt\n",
    "import seaborn as sns\n",
    "\n",
    "#ml libary\n",
    "from mlens.ensemble import SuperLearner\n",
    "from mlens.model_selection import Evaluator\n",
    "from mlens.metrics import make_scorer\n",
    "from sklearn.metrics import accuracy_score\n",
    "\n",
    "#classifier libaries\n",
    "from mlens.ensemble import SuperLearner\n",
    "from sklearn.metrics import accuracy_score\n",
    "from mlens.model_selection import Evaluator\n",
    "from mlens.metrics import make_scorer\n",
    "from sklearn import metrics\n",
    "from sklearn.linear_model import LogisticRegression\n",
    "from sklearn.naive_bayes import GaussianNB\n",
    "from sklearn.ensemble import RandomForestClassifier\n",
    "from sklearn.svm import SVC\n",
    "from sklearn.neighbors import KNeighborsClassifier\n",
    "from sklearn.tree import DecisionTreeClassifier\n",
    "from sklearn.ensemble import AdaBoostClassifier\n",
    "from sklearn.ensemble import BaggingClassifier\n",
    "from sklearn.ensemble import GradientBoostingClassifier\n",
    "import xgboost as xgb\n",
    "from xgboost.sklearn import XGBClassifier\n",
    "import warnings\n",
    "warnings.filterwarnings(\"ignore\")\n",
    "import pandas\n",
    "from sklearn.svm import SVC\n",
    "import sklearn\n",
    "import pandas \n",
    "from sklearn.model_selection import train_test_split\n",
    "from sklearn.preprocessing import StandardScaler\n",
    "from sklearn.preprocessing import OneHotEncoder\n",
    "from sklearn import preprocessing\n",
    "\n",
    "#tensorflow\n",
    "import keras\n",
    "from keras.models import Sequential\n",
    "from keras.layers import Dense\n",
    "import tensorflow as tf"
   ]
  },
  {
   "cell_type": "markdown",
   "id": "7973ceb2",
   "metadata": {},
   "source": [
    "## Data Understanding\n",
    "\n",
    "2000 rows, and 21 features <br/>\n",
    "We have features like mobile's battery power,mobile weight,mobile cores and etc to predict the target \"price_range\"<br/>\n",
    "No null value"
   ]
  },
  {
   "cell_type": "code",
   "execution_count": 10,
   "id": "9b387e05",
   "metadata": {},
   "outputs": [
    {
     "name": "stdout",
     "output_type": "stream",
     "text": [
      "<class 'pandas.core.frame.DataFrame'>\n",
      "RangeIndex: 2000 entries, 0 to 1999\n",
      "Data columns (total 21 columns):\n",
      " #   Column         Non-Null Count  Dtype  \n",
      "---  ------         --------------  -----  \n",
      " 0   battery_power  2000 non-null   int64  \n",
      " 1   blue           2000 non-null   int64  \n",
      " 2   clock_speed    2000 non-null   float64\n",
      " 3   dual_sim       2000 non-null   int64  \n",
      " 4   fc             2000 non-null   int64  \n",
      " 5   four_g         2000 non-null   int64  \n",
      " 6   int_memory     2000 non-null   int64  \n",
      " 7   m_dep          2000 non-null   float64\n",
      " 8   mobile_wt      2000 non-null   int64  \n",
      " 9   n_cores        2000 non-null   int64  \n",
      " 10  pc             2000 non-null   int64  \n",
      " 11  px_height      2000 non-null   int64  \n",
      " 12  px_width       2000 non-null   int64  \n",
      " 13  ram            2000 non-null   int64  \n",
      " 14  sc_h           2000 non-null   int64  \n",
      " 15  sc_w           2000 non-null   int64  \n",
      " 16  talk_time      2000 non-null   int64  \n",
      " 17  three_g        2000 non-null   int64  \n",
      " 18  touch_screen   2000 non-null   int64  \n",
      " 19  wifi           2000 non-null   int64  \n",
      " 20  price_range    2000 non-null   int64  \n",
      "dtypes: float64(2), int64(19)\n",
      "memory usage: 328.2 KB\n",
      "None\n",
      "21\n"
     ]
    },
    {
     "data": {
      "text/html": [
       "<div>\n",
       "<style scoped>\n",
       "    .dataframe tbody tr th:only-of-type {\n",
       "        vertical-align: middle;\n",
       "    }\n",
       "\n",
       "    .dataframe tbody tr th {\n",
       "        vertical-align: top;\n",
       "    }\n",
       "\n",
       "    .dataframe thead th {\n",
       "        text-align: right;\n",
       "    }\n",
       "</style>\n",
       "<table border=\"1\" class=\"dataframe\">\n",
       "  <thead>\n",
       "    <tr style=\"text-align: right;\">\n",
       "      <th></th>\n",
       "      <th>battery_power</th>\n",
       "      <th>blue</th>\n",
       "      <th>clock_speed</th>\n",
       "      <th>dual_sim</th>\n",
       "      <th>fc</th>\n",
       "      <th>four_g</th>\n",
       "      <th>int_memory</th>\n",
       "      <th>m_dep</th>\n",
       "      <th>mobile_wt</th>\n",
       "      <th>n_cores</th>\n",
       "      <th>...</th>\n",
       "      <th>px_height</th>\n",
       "      <th>px_width</th>\n",
       "      <th>ram</th>\n",
       "      <th>sc_h</th>\n",
       "      <th>sc_w</th>\n",
       "      <th>talk_time</th>\n",
       "      <th>three_g</th>\n",
       "      <th>touch_screen</th>\n",
       "      <th>wifi</th>\n",
       "      <th>price_range</th>\n",
       "    </tr>\n",
       "  </thead>\n",
       "  <tbody>\n",
       "    <tr>\n",
       "      <th>1995</th>\n",
       "      <td>794</td>\n",
       "      <td>1</td>\n",
       "      <td>0.5</td>\n",
       "      <td>1</td>\n",
       "      <td>0</td>\n",
       "      <td>1</td>\n",
       "      <td>2</td>\n",
       "      <td>0.8</td>\n",
       "      <td>106</td>\n",
       "      <td>6</td>\n",
       "      <td>...</td>\n",
       "      <td>1222</td>\n",
       "      <td>1890</td>\n",
       "      <td>668</td>\n",
       "      <td>13</td>\n",
       "      <td>4</td>\n",
       "      <td>19</td>\n",
       "      <td>1</td>\n",
       "      <td>1</td>\n",
       "      <td>0</td>\n",
       "      <td>0</td>\n",
       "    </tr>\n",
       "    <tr>\n",
       "      <th>1996</th>\n",
       "      <td>1965</td>\n",
       "      <td>1</td>\n",
       "      <td>2.6</td>\n",
       "      <td>1</td>\n",
       "      <td>0</td>\n",
       "      <td>0</td>\n",
       "      <td>39</td>\n",
       "      <td>0.2</td>\n",
       "      <td>187</td>\n",
       "      <td>4</td>\n",
       "      <td>...</td>\n",
       "      <td>915</td>\n",
       "      <td>1965</td>\n",
       "      <td>2032</td>\n",
       "      <td>11</td>\n",
       "      <td>10</td>\n",
       "      <td>16</td>\n",
       "      <td>1</td>\n",
       "      <td>1</td>\n",
       "      <td>1</td>\n",
       "      <td>2</td>\n",
       "    </tr>\n",
       "    <tr>\n",
       "      <th>1997</th>\n",
       "      <td>1911</td>\n",
       "      <td>0</td>\n",
       "      <td>0.9</td>\n",
       "      <td>1</td>\n",
       "      <td>1</td>\n",
       "      <td>1</td>\n",
       "      <td>36</td>\n",
       "      <td>0.7</td>\n",
       "      <td>108</td>\n",
       "      <td>8</td>\n",
       "      <td>...</td>\n",
       "      <td>868</td>\n",
       "      <td>1632</td>\n",
       "      <td>3057</td>\n",
       "      <td>9</td>\n",
       "      <td>1</td>\n",
       "      <td>5</td>\n",
       "      <td>1</td>\n",
       "      <td>1</td>\n",
       "      <td>0</td>\n",
       "      <td>3</td>\n",
       "    </tr>\n",
       "    <tr>\n",
       "      <th>1998</th>\n",
       "      <td>1512</td>\n",
       "      <td>0</td>\n",
       "      <td>0.9</td>\n",
       "      <td>0</td>\n",
       "      <td>4</td>\n",
       "      <td>1</td>\n",
       "      <td>46</td>\n",
       "      <td>0.1</td>\n",
       "      <td>145</td>\n",
       "      <td>5</td>\n",
       "      <td>...</td>\n",
       "      <td>336</td>\n",
       "      <td>670</td>\n",
       "      <td>869</td>\n",
       "      <td>18</td>\n",
       "      <td>10</td>\n",
       "      <td>19</td>\n",
       "      <td>1</td>\n",
       "      <td>1</td>\n",
       "      <td>1</td>\n",
       "      <td>0</td>\n",
       "    </tr>\n",
       "    <tr>\n",
       "      <th>1999</th>\n",
       "      <td>510</td>\n",
       "      <td>1</td>\n",
       "      <td>2.0</td>\n",
       "      <td>1</td>\n",
       "      <td>5</td>\n",
       "      <td>1</td>\n",
       "      <td>45</td>\n",
       "      <td>0.9</td>\n",
       "      <td>168</td>\n",
       "      <td>6</td>\n",
       "      <td>...</td>\n",
       "      <td>483</td>\n",
       "      <td>754</td>\n",
       "      <td>3919</td>\n",
       "      <td>19</td>\n",
       "      <td>4</td>\n",
       "      <td>2</td>\n",
       "      <td>1</td>\n",
       "      <td>1</td>\n",
       "      <td>1</td>\n",
       "      <td>3</td>\n",
       "    </tr>\n",
       "  </tbody>\n",
       "</table>\n",
       "<p>5 rows × 21 columns</p>\n",
       "</div>"
      ],
      "text/plain": [
       "      battery_power  blue  clock_speed  dual_sim  fc  four_g  int_memory  \\\n",
       "1995            794     1          0.5         1   0       1           2   \n",
       "1996           1965     1          2.6         1   0       0          39   \n",
       "1997           1911     0          0.9         1   1       1          36   \n",
       "1998           1512     0          0.9         0   4       1          46   \n",
       "1999            510     1          2.0         1   5       1          45   \n",
       "\n",
       "      m_dep  mobile_wt  n_cores  ...  px_height  px_width   ram  sc_h  sc_w  \\\n",
       "1995    0.8        106        6  ...       1222      1890   668    13     4   \n",
       "1996    0.2        187        4  ...        915      1965  2032    11    10   \n",
       "1997    0.7        108        8  ...        868      1632  3057     9     1   \n",
       "1998    0.1        145        5  ...        336       670   869    18    10   \n",
       "1999    0.9        168        6  ...        483       754  3919    19     4   \n",
       "\n",
       "      talk_time  three_g  touch_screen  wifi  price_range  \n",
       "1995         19        1             1     0            0  \n",
       "1996         16        1             1     1            2  \n",
       "1997          5        1             1     0            3  \n",
       "1998         19        1             1     1            0  \n",
       "1999          2        1             1     1            3  \n",
       "\n",
       "[5 rows x 21 columns]"
      ]
     },
     "execution_count": 10,
     "metadata": {},
     "output_type": "execute_result"
    }
   ],
   "source": [
    "df = pd.read_csv(r'/Users/XiangLi/DataScience-Projects-main/ML Algorithms On Mobile Price Classification Dataset/train.csv')\n",
    "print(df.info())\n",
    "print(df.isnull().sum().count())\n",
    "df.tail()"
   ]
  },
  {
   "cell_type": "markdown",
   "id": "b5fab34b",
   "metadata": {},
   "source": [
    "## Exploratory Data Analysis\n"
   ]
  },
  {
   "cell_type": "markdown",
   "id": "077593b5",
   "metadata": {},
   "source": [
    "There is no outlier in our predcition target"
   ]
  },
  {
   "cell_type": "code",
   "execution_count": 11,
   "id": "10e93619",
   "metadata": {},
   "outputs": [
    {
     "data": {
      "text/plain": [
       "<AxesSubplot:xlabel='price_range'>"
      ]
     },
     "execution_count": 11,
     "metadata": {},
     "output_type": "execute_result"
    },
    {
     "data": {
      "image/png": "[encoded data removed]",
      "text/plain": [
       "<Figure size 600x400 with 1 Axes>"
      ]
     },
     "metadata": {
      "needs_background": "light"
     },
     "output_type": "display_data"
    }
   ],
   "source": [
    "#prediction target outlier detection\n",
    "plt.figure(dpi=100)\n",
    "sns.boxplot(data=df, x='price_range')"
   ]
  },
  {
   "cell_type": "markdown",
   "id": "03b51b17",
   "metadata": {},
   "source": [
    "Our \"Price_range\" prediction target has four classifications and they are equally distributed. <br/>\n",
    "we have a balanced dataset."
   ]
  },
  {
   "cell_type": "code",
   "execution_count": 12,
   "id": "8f65610f",
   "metadata": {},
   "outputs": [
    {
     "data": {
      "text/plain": [
       "price_range\n",
       "0              500\n",
       "1              500\n",
       "2              500\n",
       "3              500\n",
       "dtype: int64"
      ]
     },
     "execution_count": 12,
     "metadata": {},
     "output_type": "execute_result"
    }
   ],
   "source": [
    "##prediction target \n",
    "df_price_rage = df.iloc[: , -1:]\n",
    "df_price_rage.value_counts()"
   ]
  },
  {
   "cell_type": "markdown",
   "id": "cd87d999",
   "metadata": {},
   "source": [
    "## Preprocessing"
   ]
  },
  {
   "cell_type": "markdown",
   "id": "78a594e8",
   "metadata": {},
   "source": [
    "#### (1)check if the data is balanced distributed and decide if we need to scale the data <br/>\n",
    "\n",
    "Below picutres showing our features are balanced distributed and no need to scale our data"
   ]
  },
  {
   "cell_type": "code",
   "execution_count": 13,
   "id": "a3bed808",
   "metadata": {},
   "outputs": [
    {
     "data": {
      "text/plain": [
       "(0.0, 20.0)"
      ]
     },
     "execution_count": 13,
     "metadata": {},
     "output_type": "execute_result"
    },
    {
     "data": {
      "image/png": "[encoded data removed]",
      "text/plain": [
       "<Figure size 1008x288 with 4 Axes>"
      ]
     },
     "metadata": {
      "needs_background": "light"
     },
     "output_type": "display_data"
    }
   ],
   "source": [
    "fig, ax = plt.subplots(1, 4, figsize=(14,4))\n",
    "\n",
    "touch_screen = df['touch_screen'].values\n",
    "ram= df['ram'].values\n",
    "battery_power =df['battery_power'].values\n",
    "proccesing_power = df['pc'].values\n",
    "\n",
    "sns.distplot(touch_screen,ax=ax[0],color='black')\n",
    "ax[0].set_title('Touch Screen phones\\n (0:No touch||1:touch screen)',fontsize=12)\n",
    "ax[0].set_xlim([min(touch_screen),max(touch_screen)])\n",
    "\n",
    "sns.distplot(ram,ax=ax[1],color='r')\n",
    "ax[1].set_title('Rams of phones',fontsize=12)\n",
    "ax[1].set_xlim([min(ram),max(ram)])\n",
    "\n",
    "sns.distplot(battery_power,ax=ax[2],color='b')\n",
    "ax[2].set_title('BAttery Power',fontsize=12)\n",
    "ax[2].set_xlim([min(battery_power ),max(battery_power )])\n",
    "\n",
    "sns.distplot(proccesing_power ,ax=ax[3],color='y')\n",
    "ax[3].set_title('Proccesing Power',fontsize=12)\n",
    "ax[3].set_xlim([min(proccesing_power ),max(proccesing_power )])"
   ]
  },
  {
   "cell_type": "markdown",
   "id": "fca3073b",
   "metadata": {},
   "source": [
    "#### (2)Split the data"
   ]
  },
  {
   "cell_type": "code",
   "execution_count": 14,
   "id": "d57501f7",
   "metadata": {},
   "outputs": [],
   "source": [
    "X = df.drop(columns='price_range')\n",
    "y = df['price_range']\n",
    "X_train, X_test, y_train, y_test = train_test_split(X, y, test_size=0.20, random_state=555, stratify=y)"
   ]
  },
  {
   "cell_type": "markdown",
   "id": "4138e3cc",
   "metadata": {},
   "source": [
    "## Models deployment and Cross Validation\n",
    "we will be using three methods<br/>\n",
    "### \"i\":  Classifier methods <br/>\n",
    "### \"ii\": Ensemble method  <br/>\n",
    "### \"iii\":Deep learning, neural network method"
   ]
  },
  {
   "cell_type": "markdown",
   "id": "2d217911",
   "metadata": {},
   "source": [
    "\"------------------Starting here-------------------------\"<br/>\n",
    "#### i:Classifier methods<br/>\n",
    "'Logistic Regression','Random Forest','Support Vector Machine', 'KNeighbors','Decision Tree','Ada Boost','Bagging','Gradient Boosting', 'XGBoost'\n",
    "\n",
    "Support Vector Machine is the best model with highest test accuracy in our data set: 0.9575 "
   ]
  },
  {
   "cell_type": "code",
   "execution_count": 15,
   "id": "1ad2f0ba",
   "metadata": {},
   "outputs": [
    {
     "name": "stdout",
     "output_type": "stream",
     "text": [
      "5-fold cross validation:\n",
      "\n",
      "Train CV Accuracy: 0.760 (+/- 0.025) [Logistic Regression]\n",
      "Test Accuracy: 0.7650 \n",
      "Train CV Accuracy: 0.870 (+/- 0.011) [Random Forest]\n",
      "Test Accuracy: 0.8825 \n",
      "Train CV Accuracy: 0.949 (+/- 0.014) [Support Vector Machine]\n",
      "Test Accuracy: 0.9575 \n",
      "Train CV Accuracy: 0.918 (+/- 0.011) [KNeighbors]\n",
      "Test Accuracy: 0.9175 \n",
      "Train CV Accuracy: 0.831 (+/- 0.015) [Decision Tree]\n",
      "Test Accuracy: 0.8350 \n",
      "Train CV Accuracy: 0.711 (+/- 0.049) [Ada Boost]\n",
      "Test Accuracy: 0.6900 \n",
      "Train CV Accuracy: 0.891 (+/- 0.012) [Bagging]\n",
      "Test Accuracy: 0.8925 \n",
      "Train CV Accuracy: 0.896 (+/- 0.019) [Gradient Boosting]\n",
      "Test Accuracy: 0.9025 \n",
      "Train CV Accuracy: 0.912 (+/- 0.012) [XGBoost]\n",
      "Test Accuracy: 0.9050 \n",
      "CPU times: user 3min 5s, sys: 4.24 s, total: 3min 10s\n",
      "Wall time: 1min 1s\n"
     ]
    }
   ],
   "source": [
    "%%time\n",
    "LR = LogisticRegression(solver='lbfgs', max_iter=10000, random_state=555)\n",
    "RF = RandomForestClassifier(n_estimators = 100, random_state=555)\n",
    "SVM = SVC(random_state=0, probability=True)\n",
    "KNC = KNeighborsClassifier()\n",
    "DTC = DecisionTreeClassifier()\n",
    "ABC = AdaBoostClassifier(n_estimators = 100)\n",
    "BC = BaggingClassifier(n_estimators = 100)\n",
    "GBC = GradientBoostingClassifier(n_estimators = 100)\n",
    "# clf_XGB = XGBClassifier(n_estimators = 100, objective= 'binary:logistic', seed=555, use_label_encoder=False)\n",
    "clf_XGB = XGBClassifier(n_estimators = 100, seed=555, use_label_encoder=False, eval_metric='logloss')\n",
    "\n",
    "clfs = []\n",
    "print('5-fold cross validation:\\n')\n",
    "for clf, label in zip([LR, RF, SVM, KNC, DTC, ABC, BC, GBC, clf_XGB],\n",
    "                      ['Logistic Regression',\n",
    "                       'Random Forest',\n",
    "                       'Support Vector Machine',\n",
    "                       'KNeighbors',\n",
    "                       'Decision Tree',\n",
    "                       'Ada Boost',\n",
    "                       'Bagging',\n",
    "                       'Gradient Boosting',\n",
    "                       'XGBoost']):\n",
    "    scores = sklearn.model_selection.cross_val_score(clf, X_train, y_train, cv=5, scoring=\"accuracy\")\n",
    "    print(\"Train CV Accuracy: %0.3f (+/- %0.3f) [%s]\" % (scores.mean(), scores.std(), label))\n",
    "    md = clf.fit(X_train, y_train)\n",
    "    clfs.append(md)\n",
    "    print(\"Test Accuracy: %0.4f \" % (sklearn.metrics.accuracy_score(clf.predict(X_test), y_test)))"
   ]
  },
  {
   "cell_type": "markdown",
   "id": "deda5989",
   "metadata": {},
   "source": [
    "#### ii.Ensembles <br/>\n",
    "ML-Ensemble library to combine my best model and my second best model into a single layer.<br/>\n",
    "My best model:SVM <br/>\n",
    "MY second best model:KNeighbors<br/>\n",
    "My Ensemble meta:GradientBoostingClassifier\n",
    "    \n",
    "I use GradientBoostingClassifier meta to combine group of my best models to create a strong predictive model.<br/>\n",
    "My ML-Ensemble method test accuracy is: 0.9525"
   ]
  },
  {
   "cell_type": "code",
   "execution_count": 16,
   "id": "6edde07d",
   "metadata": {},
   "outputs": [
    {
     "name": "stdout",
     "output_type": "stream",
     "text": [
      "\n",
      "Fitting 2 layers\n",
      "Processing layer-1             done | 00:00:00\n",
      "Processing layer-2             done | 00:00:00\n",
      "Fit complete                        | 00:00:01\n",
      "\n",
      "Predicting 2 layers\n",
      "Processing layer-1             done | 00:00:00\n",
      "Processing layer-2             done | 00:00:00\n",
      "Predict complete                    | 00:00:00\n",
      "Accuracy - Train :  0.954375\n",
      "\n",
      "Predicting 2 layers\n",
      "Processing layer-1             done | 00:00:00\n",
      "Processing layer-2             done | 00:00:00\n",
      "Predict complete                    | 00:00:00\n",
      "Accuracy - Test :  0.9525\n"
     ]
    }
   ],
   "source": [
    "ensemble = SuperLearner(scorer=accuracy_score, random_state=555, verbose=2)\n",
    "ensemble.add([SVM, KNC])\n",
    "# Attach the final meta estimator\n",
    "# ensemble.add_meta(LogisticRegression())\n",
    "ensemble.add_meta(GradientBoostingClassifier())\n",
    "# Fit ensemble\n",
    "ensemble.fit(X_train, y_train)\n",
    "#pred_vals = ensemble.predict(X_test)\n",
    "print (\"Accuracy - Train : \", sklearn.metrics.accuracy_score(ensemble.predict(X_train), y_train))\n",
    "print (\"Accuracy - Test : \", sklearn.metrics.accuracy_score(ensemble.predict(X_test), y_test))"
   ]
  },
  {
   "cell_type": "code",
   "execution_count": 17,
   "id": "ff0c85eb",
   "metadata": {},
   "outputs": [
    {
     "name": "stdout",
     "output_type": "stream",
     "text": [
      "Fit data:\n",
      "                                 score-m  score-s  ft-m  ft-s  pt-m  pt-s\n",
      "layer-1  kneighborsclassifier       0.92     0.00  0.01  0.00  0.12  0.00\n",
      "layer-1  svc                        0.94     0.00  0.15  0.00  0.07  0.00\n",
      "\n"
     ]
    }
   ],
   "source": [
    "print(\"Fit data:\\n%r\" % ensemble.data)"
   ]
  },
  {
   "cell_type": "markdown",
   "id": "79542eb3",
   "metadata": {},
   "source": [
    "#### iii.Building Neural network using Tensorflow\n",
    "\n",
    "(1)Preprocessing: convert data fram to numpy array for later use <br/>\n",
    "(2)setting up dense layer,construct neural network<br/>\n",
    "(3)Compile model<br/>\n",
    "(4)Run model<br/>\n",
    "(5)Cross validation<br/>  "
   ]
  },
  {
   "cell_type": "markdown",
   "id": "5c38c9c4",
   "metadata": {},
   "source": [
    "#### (1) Preprocessing\n",
    "1:convert data from to numpy array and scaler it(Normalize data) for later use <br/>\n",
    "2.conver our prediction target using oneHotEncoder since it has four classes(0,1,2,3,4) for later use. <br/>\n",
    "One hot encoded array: <br/>\n",
    "[[0. 1. 0. 0.] <br/>\n",
    " [0. 0. 1. 0.] <br/>\n",
    " [0. 0. 1. 0.] <br/>\n",
    " [0. 0. 1. 0.] <br/>\n",
    " [0. 1. 0. 0.]] <br/>"
   ]
  },
  {
   "cell_type": "code",
   "execution_count": 18,
   "id": "c1ca95e8",
   "metadata": {},
   "outputs": [
    {
     "name": "stdout",
     "output_type": "stream",
     "text": [
      "Normalized data:\n",
      "[-0.90259726 -0.9900495   0.83077942 -1.01918398 -0.76249466 -1.04396559\n",
      " -1.38064353  0.34073951  1.34924881 -1.10197128 -1.3057501  -1.40894856\n",
      " -1.14678403  0.39170341 -0.78498329  0.2831028   1.46249332 -1.78686097\n",
      " -1.00601811  0.98609664]\n"
     ]
    }
   ],
   "source": [
    "#Changing X pandas dataframe to numpy array\n",
    "X = df.iloc[:,:20].values\n",
    "\n",
    "#normalized X data\n",
    "sc = StandardScaler()\n",
    "X = sc.fit_transform(X)\n",
    "print('Normalized data:')\n",
    "print(X[0])"
   ]
  },
  {
   "cell_type": "code",
   "execution_count": 19,
   "id": "fc32994e",
   "metadata": {},
   "outputs": [
    {
     "name": "stdout",
     "output_type": "stream",
     "text": [
      "One hot encoded Y array: [[0. 1. 0. 0.]\n",
      " [0. 0. 1. 0.]\n",
      " [0. 0. 1. 0.]\n",
      " ...\n",
      " [0. 0. 0. 1.]\n",
      " [1. 0. 0. 0.]\n",
      " [0. 0. 0. 1.]]\n"
     ]
    }
   ],
   "source": [
    "#Changing Y pandas dataframe to numpy array\n",
    "y = df.iloc[:,20:21].values\n",
    "\n",
    "#prediction target \n",
    "#new arry = shape (n, number of classes)\n",
    "# n is number of samples\n",
    "from sklearn.preprocessing import OneHotEncoder\n",
    "ohe = OneHotEncoder()\n",
    "y = ohe.fit_transform(y).toarray()\n",
    "print('One hot encoded Y array:',y)"
   ]
  },
  {
   "cell_type": "markdown",
   "id": "2ab1fbc0",
   "metadata": {},
   "source": [
    "#### (2)setting up dense layer,constructing neural network<br/>\n",
    "1.Model.add is to add layer to our network , Dense means fully connected layer <br/>\n",
    "\n",
    "2.First layer: Output  16 dimensions, while input is 20 dimentions, activation function relu in our case <br/>\n",
    "\n",
    "3.Second layer:Output 12 dimensions, while automatically considerthe same from last layer, activation function relu in our case <br/>\n",
    "\n",
    "4.Last layer:  Output 4  dimensions, because we have 4 different classes in our target. the output layer takes all activation functions from previous layer, the softmax take negative/positve/etc numbers and transforms them into values between 0 and 1"
   ]
  },
  {
   "cell_type": "code",
   "execution_count": 20,
   "id": "680282d3",
   "metadata": {},
   "outputs": [
    {
     "name": "stderr",
     "output_type": "stream",
     "text": [
      "2022-06-16 14:34:30.672919: I tensorflow/core/platform/cpu_feature_guard.cc:193] This TensorFlow binary is optimized with oneAPI Deep Neural Network Library (oneDNN) to use the following CPU instructions in performance-critical operations:  AVX2 FMA\n",
      "To enable them in other operations, rebuild TensorFlow with the appropriate compiler flags.\n"
     ]
    }
   ],
   "source": [
    "#train test split data\n",
    "X_train,X_test,y_train,y_test = train_test_split(X,y,test_size = 0.1)\n",
    "\n",
    "# Neural network\n",
    "model = Sequential()\n",
    "model.add(Dense(16, input_dim=20, activation='relu'))\n",
    "model.add(Dense(12, activation='relu'))\n",
    "model.add(Dense(4, activation='softmax'))"
   ]
  },
  {
   "cell_type": "markdown",
   "id": "e20636e6",
   "metadata": {},
   "source": [
    "#### (3)Compile model"
   ]
  },
  {
   "cell_type": "code",
   "execution_count": 21,
   "id": "18cc7704",
   "metadata": {},
   "outputs": [],
   "source": [
    "#complie model\n",
    "model.compile(loss='categorical_crossentropy', optimizer='adam', metrics=['accuracy'])"
   ]
  },
  {
   "cell_type": "markdown",
   "id": "b38fd4b9",
   "metadata": {},
   "source": [
    "#### (4)Run model"
   ]
  },
  {
   "cell_type": "code",
   "execution_count": 22,
   "id": "1026089a",
   "metadata": {},
   "outputs": [
    {
     "name": "stdout",
     "output_type": "stream",
     "text": [
      "Epoch 1/100\n",
      "29/29 [==============================] - 0s 1ms/step - loss: 1.4793 - accuracy: 0.2433\n",
      "Epoch 2/100\n",
      "29/29 [==============================] - 0s 1ms/step - loss: 1.3745 - accuracy: 0.2939\n",
      "Epoch 3/100\n",
      "29/29 [==============================] - 0s 1ms/step - loss: 1.3015 - accuracy: 0.3533\n",
      "Epoch 4/100\n",
      "29/29 [==============================] - 0s 1ms/step - loss: 1.2248 - accuracy: 0.4194\n",
      "Epoch 5/100\n",
      "29/29 [==============================] - 0s 1ms/step - loss: 1.1384 - accuracy: 0.4739\n",
      "Epoch 6/100\n",
      "29/29 [==============================] - 0s 1ms/step - loss: 1.0470 - accuracy: 0.5167\n",
      "Epoch 7/100\n",
      "29/29 [==============================] - 0s 1ms/step - loss: 0.9628 - accuracy: 0.5594\n",
      "Epoch 8/100\n",
      "29/29 [==============================] - 0s 1ms/step - loss: 0.8868 - accuracy: 0.5867\n",
      "Epoch 9/100\n",
      "29/29 [==============================] - 0s 1ms/step - loss: 0.8198 - accuracy: 0.6256\n",
      "Epoch 10/100\n",
      "29/29 [==============================] - 0s 1ms/step - loss: 0.7581 - accuracy: 0.6894\n",
      "Epoch 11/100\n",
      "29/29 [==============================] - 0s 1ms/step - loss: 0.7012 - accuracy: 0.7144\n",
      "Epoch 12/100\n",
      "29/29 [==============================] - 0s 1ms/step - loss: 0.6494 - accuracy: 0.7539\n",
      "Epoch 13/100\n",
      "29/29 [==============================] - 0s 1ms/step - loss: 0.6014 - accuracy: 0.7839\n",
      "Epoch 14/100\n",
      "29/29 [==============================] - 0s 1ms/step - loss: 0.5584 - accuracy: 0.8017\n",
      "Epoch 15/100\n",
      "29/29 [==============================] - 0s 1ms/step - loss: 0.5192 - accuracy: 0.8233\n",
      "Epoch 16/100\n",
      "29/29 [==============================] - 0s 1ms/step - loss: 0.4849 - accuracy: 0.8417\n",
      "Epoch 17/100\n",
      "29/29 [==============================] - 0s 1ms/step - loss: 0.4530 - accuracy: 0.8644\n",
      "Epoch 18/100\n",
      "29/29 [==============================] - 0s 1ms/step - loss: 0.4243 - accuracy: 0.8772\n",
      "Epoch 19/100\n",
      "29/29 [==============================] - 0s 1ms/step - loss: 0.3980 - accuracy: 0.8833\n",
      "Epoch 20/100\n",
      "29/29 [==============================] - 0s 1ms/step - loss: 0.3725 - accuracy: 0.8944\n",
      "Epoch 21/100\n",
      "29/29 [==============================] - 0s 1ms/step - loss: 0.3509 - accuracy: 0.9000\n",
      "Epoch 22/100\n",
      "29/29 [==============================] - 0s 1ms/step - loss: 0.3317 - accuracy: 0.9044\n",
      "Epoch 23/100\n",
      "29/29 [==============================] - 0s 1ms/step - loss: 0.3128 - accuracy: 0.9078\n",
      "Epoch 24/100\n",
      "29/29 [==============================] - 0s 1ms/step - loss: 0.2971 - accuracy: 0.9111\n",
      "Epoch 25/100\n",
      "29/29 [==============================] - 0s 1ms/step - loss: 0.2823 - accuracy: 0.9256\n",
      "Epoch 26/100\n",
      "29/29 [==============================] - 0s 1ms/step - loss: 0.2672 - accuracy: 0.9244\n",
      "Epoch 27/100\n",
      "29/29 [==============================] - 0s 1ms/step - loss: 0.2543 - accuracy: 0.9306\n",
      "Epoch 28/100\n",
      "29/29 [==============================] - 0s 1ms/step - loss: 0.2432 - accuracy: 0.9339\n",
      "Epoch 29/100\n",
      "29/29 [==============================] - 0s 1ms/step - loss: 0.2329 - accuracy: 0.9328\n",
      "Epoch 30/100\n",
      "29/29 [==============================] - 0s 1ms/step - loss: 0.2223 - accuracy: 0.9400\n",
      "Epoch 31/100\n",
      "29/29 [==============================] - 0s 1ms/step - loss: 0.2135 - accuracy: 0.9372\n",
      "Epoch 32/100\n",
      "29/29 [==============================] - 0s 1ms/step - loss: 0.2039 - accuracy: 0.9389\n",
      "Epoch 33/100\n",
      "29/29 [==============================] - 0s 1ms/step - loss: 0.1958 - accuracy: 0.9467\n",
      "Epoch 34/100\n",
      "29/29 [==============================] - 0s 1ms/step - loss: 0.1873 - accuracy: 0.9478\n",
      "Epoch 35/100\n",
      "29/29 [==============================] - 0s 1ms/step - loss: 0.1803 - accuracy: 0.9478\n",
      "Epoch 36/100\n",
      "29/29 [==============================] - 0s 1ms/step - loss: 0.1742 - accuracy: 0.9489\n",
      "Epoch 37/100\n",
      "29/29 [==============================] - 0s 1ms/step - loss: 0.1685 - accuracy: 0.9528\n",
      "Epoch 38/100\n",
      "29/29 [==============================] - 0s 1ms/step - loss: 0.1630 - accuracy: 0.9522\n",
      "Epoch 39/100\n",
      "29/29 [==============================] - 0s 1ms/step - loss: 0.1582 - accuracy: 0.9539\n",
      "Epoch 40/100\n",
      "29/29 [==============================] - 0s 1ms/step - loss: 0.1537 - accuracy: 0.9539\n",
      "Epoch 41/100\n",
      "29/29 [==============================] - 0s 1ms/step - loss: 0.1485 - accuracy: 0.9578\n",
      "Epoch 42/100\n",
      "29/29 [==============================] - 0s 1ms/step - loss: 0.1440 - accuracy: 0.9583\n",
      "Epoch 43/100\n",
      "29/29 [==============================] - 0s 1ms/step - loss: 0.1402 - accuracy: 0.9594\n",
      "Epoch 44/100\n",
      "29/29 [==============================] - 0s 1ms/step - loss: 0.1364 - accuracy: 0.9628\n",
      "Epoch 45/100\n",
      "29/29 [==============================] - 0s 1ms/step - loss: 0.1326 - accuracy: 0.9628\n",
      "Epoch 46/100\n",
      "29/29 [==============================] - 0s 1ms/step - loss: 0.1286 - accuracy: 0.9633\n",
      "Epoch 47/100\n",
      "29/29 [==============================] - 0s 1ms/step - loss: 0.1254 - accuracy: 0.9633\n",
      "Epoch 48/100\n",
      "29/29 [==============================] - 0s 1ms/step - loss: 0.1219 - accuracy: 0.9633\n",
      "Epoch 49/100\n",
      "29/29 [==============================] - 0s 1ms/step - loss: 0.1192 - accuracy: 0.9667\n",
      "Epoch 50/100\n",
      "29/29 [==============================] - 0s 1ms/step - loss: 0.1167 - accuracy: 0.9672\n",
      "Epoch 51/100\n",
      "29/29 [==============================] - 0s 1ms/step - loss: 0.1138 - accuracy: 0.9689\n",
      "Epoch 52/100\n",
      "29/29 [==============================] - 0s 2ms/step - loss: 0.1111 - accuracy: 0.9672\n",
      "Epoch 53/100\n",
      "29/29 [==============================] - 0s 1ms/step - loss: 0.1079 - accuracy: 0.9717\n",
      "Epoch 54/100\n",
      "29/29 [==============================] - 0s 1ms/step - loss: 0.1049 - accuracy: 0.9722\n",
      "Epoch 55/100\n",
      "29/29 [==============================] - 0s 1ms/step - loss: 0.1023 - accuracy: 0.9700\n",
      "Epoch 56/100\n",
      "29/29 [==============================] - 0s 1ms/step - loss: 0.1002 - accuracy: 0.9717\n",
      "Epoch 57/100\n",
      "29/29 [==============================] - 0s 1ms/step - loss: 0.0980 - accuracy: 0.9739\n",
      "Epoch 58/100\n",
      "29/29 [==============================] - 0s 1ms/step - loss: 0.0954 - accuracy: 0.9711\n",
      "Epoch 59/100\n",
      "29/29 [==============================] - 0s 1ms/step - loss: 0.0949 - accuracy: 0.9717\n",
      "Epoch 60/100\n",
      "29/29 [==============================] - 0s 1ms/step - loss: 0.0925 - accuracy: 0.9728\n",
      "Epoch 61/100\n",
      "29/29 [==============================] - 0s 1ms/step - loss: 0.0897 - accuracy: 0.9772\n",
      "Epoch 62/100\n",
      "29/29 [==============================] - 0s 1ms/step - loss: 0.0901 - accuracy: 0.9767\n",
      "Epoch 63/100\n",
      "29/29 [==============================] - 0s 1ms/step - loss: 0.0870 - accuracy: 0.9756\n",
      "Epoch 64/100\n",
      "29/29 [==============================] - 0s 1ms/step - loss: 0.0850 - accuracy: 0.9783\n",
      "Epoch 65/100\n",
      "29/29 [==============================] - 0s 1ms/step - loss: 0.0859 - accuracy: 0.9767\n",
      "Epoch 66/100\n",
      "29/29 [==============================] - 0s 1ms/step - loss: 0.0813 - accuracy: 0.9806\n",
      "Epoch 67/100\n",
      "29/29 [==============================] - 0s 1ms/step - loss: 0.0796 - accuracy: 0.9806\n",
      "Epoch 68/100\n",
      "29/29 [==============================] - 0s 1ms/step - loss: 0.0787 - accuracy: 0.9806\n",
      "Epoch 69/100\n",
      "29/29 [==============================] - 0s 1ms/step - loss: 0.0787 - accuracy: 0.9800\n",
      "Epoch 70/100\n",
      "29/29 [==============================] - 0s 1ms/step - loss: 0.0765 - accuracy: 0.9833\n",
      "Epoch 71/100\n",
      "29/29 [==============================] - 0s 1ms/step - loss: 0.0754 - accuracy: 0.9783\n",
      "Epoch 72/100\n",
      "29/29 [==============================] - 0s 1ms/step - loss: 0.0746 - accuracy: 0.9817\n",
      "Epoch 73/100\n",
      "29/29 [==============================] - 0s 1ms/step - loss: 0.0723 - accuracy: 0.9822\n",
      "Epoch 74/100\n",
      "29/29 [==============================] - 0s 1ms/step - loss: 0.0719 - accuracy: 0.9817\n",
      "Epoch 75/100\n",
      "29/29 [==============================] - 0s 1ms/step - loss: 0.0691 - accuracy: 0.9833\n",
      "Epoch 76/100\n",
      "29/29 [==============================] - 0s 1ms/step - loss: 0.0680 - accuracy: 0.9844\n",
      "Epoch 77/100\n",
      "29/29 [==============================] - 0s 1ms/step - loss: 0.0670 - accuracy: 0.9861\n",
      "Epoch 78/100\n",
      "29/29 [==============================] - 0s 1ms/step - loss: 0.0660 - accuracy: 0.9828\n",
      "Epoch 79/100\n",
      "29/29 [==============================] - 0s 1ms/step - loss: 0.0643 - accuracy: 0.9894\n",
      "Epoch 80/100\n",
      "29/29 [==============================] - 0s 1ms/step - loss: 0.0642 - accuracy: 0.9861\n",
      "Epoch 81/100\n",
      "29/29 [==============================] - 0s 1ms/step - loss: 0.0616 - accuracy: 0.9878\n",
      "Epoch 82/100\n",
      "29/29 [==============================] - 0s 1ms/step - loss: 0.0608 - accuracy: 0.9878\n",
      "Epoch 83/100\n"
     ]
    },
    {
     "name": "stdout",
     "output_type": "stream",
     "text": [
      "29/29 [==============================] - 0s 1ms/step - loss: 0.0604 - accuracy: 0.9856\n",
      "Epoch 84/100\n",
      "29/29 [==============================] - 0s 1ms/step - loss: 0.0586 - accuracy: 0.9872\n",
      "Epoch 85/100\n",
      "29/29 [==============================] - 0s 1ms/step - loss: 0.0575 - accuracy: 0.9889\n",
      "Epoch 86/100\n",
      "29/29 [==============================] - 0s 1ms/step - loss: 0.0568 - accuracy: 0.9850\n",
      "Epoch 87/100\n",
      "29/29 [==============================] - 0s 1ms/step - loss: 0.0571 - accuracy: 0.9906\n",
      "Epoch 88/100\n",
      "29/29 [==============================] - 0s 1ms/step - loss: 0.0549 - accuracy: 0.9894\n",
      "Epoch 89/100\n",
      "29/29 [==============================] - 0s 1ms/step - loss: 0.0536 - accuracy: 0.9906\n",
      "Epoch 90/100\n",
      "29/29 [==============================] - 0s 1ms/step - loss: 0.0532 - accuracy: 0.9911\n",
      "Epoch 91/100\n",
      "29/29 [==============================] - 0s 1ms/step - loss: 0.0525 - accuracy: 0.9911\n",
      "Epoch 92/100\n",
      "29/29 [==============================] - 0s 1ms/step - loss: 0.0510 - accuracy: 0.9906\n",
      "Epoch 93/100\n",
      "29/29 [==============================] - 0s 1ms/step - loss: 0.0504 - accuracy: 0.9894\n",
      "Epoch 94/100\n",
      "29/29 [==============================] - 0s 1ms/step - loss: 0.0510 - accuracy: 0.9906\n",
      "Epoch 95/100\n",
      "29/29 [==============================] - 0s 1ms/step - loss: 0.0501 - accuracy: 0.9894\n",
      "Epoch 96/100\n",
      "29/29 [==============================] - 0s 1ms/step - loss: 0.0479 - accuracy: 0.9911\n",
      "Epoch 97/100\n",
      "29/29 [==============================] - 0s 1ms/step - loss: 0.0469 - accuracy: 0.9933\n",
      "Epoch 98/100\n",
      "29/29 [==============================] - 0s 1ms/step - loss: 0.0469 - accuracy: 0.9900\n",
      "Epoch 99/100\n",
      "29/29 [==============================] - 0s 1ms/step - loss: 0.0458 - accuracy: 0.9917\n",
      "Epoch 100/100\n",
      "29/29 [==============================] - 0s 1ms/step - loss: 0.0464 - accuracy: 0.9900\n"
     ]
    }
   ],
   "source": [
    "history = model.fit(X_train, y_train, epochs=100, batch_size=64)"
   ]
  },
  {
   "cell_type": "markdown",
   "id": "19d87722",
   "metadata": {},
   "source": [
    "#### (5)Cross validation"
   ]
  },
  {
   "cell_type": "code",
   "execution_count": 23,
   "id": "1a5bf5e9",
   "metadata": {},
   "outputs": [
    {
     "name": "stdout",
     "output_type": "stream",
     "text": [
      "7/7 [==============================] - 0s 903us/step\n"
     ]
    }
   ],
   "source": [
    "#cross validation our model on test data\n",
    "y_pred = model.predict(X_test)\n",
    "\n",
    "#Converting predictions to label\n",
    "pred = list()\n",
    "for i in range(len(y_pred)):\n",
    "    pred.append(np.argmax(y_pred[i]))\n",
    "#Converting one hot encoded test label to label\n",
    "test = list()\n",
    "for i in range(len(y_test)):\n",
    "    test.append(np.argmax(y_test[i]))"
   ]
  },
  {
   "cell_type": "code",
   "execution_count": 24,
   "id": "5543e4fc",
   "metadata": {},
   "outputs": [
    {
     "name": "stdout",
     "output_type": "stream",
     "text": [
      "Accuracy is: 89.5\n"
     ]
    }
   ],
   "source": [
    "from sklearn.metrics import accuracy_score\n",
    "a = accuracy_score(pred,test)\n",
    "print('Accuracy is:', a*100)"
   ]
  },
  {
   "cell_type": "code",
   "execution_count": 25,
   "id": "d3119837",
   "metadata": {},
   "outputs": [],
   "source": [
    "#Dependencies\n",
    "import keras\n",
    "from keras.models import Sequential\n",
    "from keras.layers import Dense\n",
    "#Re initialized to delete trained weights\n",
    "# Neural network\n",
    "model = Sequential()\n",
    "model.add(Dense(16, input_dim=20, activation='relu'))\n",
    "model.add(Dense(12, activation='relu'))\n",
    "model.add(Dense(4, activation='softmax'))\n",
    "\n",
    "model.compile(loss='categorical_crossentropy', optimizer='adam', metrics=['accuracy'])"
   ]
  },
  {
   "cell_type": "code",
   "execution_count": 26,
   "id": "138c19b3",
   "metadata": {},
   "outputs": [
    {
     "name": "stdout",
     "output_type": "stream",
     "text": [
      "Epoch 1/100\n",
      "29/29 [==============================] - 0s 6ms/step - loss: 1.4314 - accuracy: 0.2822 - val_loss: 1.4683 - val_accuracy: 0.2200\n",
      "Epoch 2/100\n",
      "29/29 [==============================] - 0s 2ms/step - loss: 1.3724 - accuracy: 0.3250 - val_loss: 1.4079 - val_accuracy: 0.2950\n",
      "Epoch 3/100\n",
      "29/29 [==============================] - 0s 2ms/step - loss: 1.3301 - accuracy: 0.3617 - val_loss: 1.3559 - val_accuracy: 0.3150\n",
      "Epoch 4/100\n",
      "29/29 [==============================] - 0s 2ms/step - loss: 1.2842 - accuracy: 0.4033 - val_loss: 1.2987 - val_accuracy: 0.3650\n",
      "Epoch 5/100\n",
      "29/29 [==============================] - 0s 2ms/step - loss: 1.2278 - accuracy: 0.4417 - val_loss: 1.2362 - val_accuracy: 0.4200\n",
      "Epoch 6/100\n",
      "29/29 [==============================] - 0s 2ms/step - loss: 1.1566 - accuracy: 0.4817 - val_loss: 1.1637 - val_accuracy: 0.4400\n",
      "Epoch 7/100\n",
      "29/29 [==============================] - 0s 2ms/step - loss: 1.0738 - accuracy: 0.5322 - val_loss: 1.0836 - val_accuracy: 0.4700\n",
      "Epoch 8/100\n",
      "29/29 [==============================] - 0s 2ms/step - loss: 0.9848 - accuracy: 0.5722 - val_loss: 1.0032 - val_accuracy: 0.5050\n",
      "Epoch 9/100\n",
      "29/29 [==============================] - 0s 2ms/step - loss: 0.9001 - accuracy: 0.6067 - val_loss: 0.9240 - val_accuracy: 0.5550\n",
      "Epoch 10/100\n",
      "29/29 [==============================] - 0s 2ms/step - loss: 0.8193 - accuracy: 0.6539 - val_loss: 0.8516 - val_accuracy: 0.6050\n",
      "Epoch 11/100\n",
      "29/29 [==============================] - 0s 2ms/step - loss: 0.7463 - accuracy: 0.7022 - val_loss: 0.7835 - val_accuracy: 0.6450\n",
      "Epoch 12/100\n",
      "29/29 [==============================] - 0s 2ms/step - loss: 0.6779 - accuracy: 0.7417 - val_loss: 0.7173 - val_accuracy: 0.6700\n",
      "Epoch 13/100\n",
      "29/29 [==============================] - 0s 2ms/step - loss: 0.6155 - accuracy: 0.7772 - val_loss: 0.6625 - val_accuracy: 0.7050\n",
      "Epoch 14/100\n",
      "29/29 [==============================] - 0s 2ms/step - loss: 0.5625 - accuracy: 0.7950 - val_loss: 0.6114 - val_accuracy: 0.7450\n",
      "Epoch 15/100\n",
      "29/29 [==============================] - 0s 2ms/step - loss: 0.5152 - accuracy: 0.8261 - val_loss: 0.5676 - val_accuracy: 0.7600\n",
      "Epoch 16/100\n",
      "29/29 [==============================] - 0s 2ms/step - loss: 0.4726 - accuracy: 0.8450 - val_loss: 0.5317 - val_accuracy: 0.7800\n",
      "Epoch 17/100\n",
      "29/29 [==============================] - 0s 2ms/step - loss: 0.4363 - accuracy: 0.8644 - val_loss: 0.4957 - val_accuracy: 0.8000\n",
      "Epoch 18/100\n",
      "29/29 [==============================] - 0s 2ms/step - loss: 0.4024 - accuracy: 0.8728 - val_loss: 0.4674 - val_accuracy: 0.8200\n",
      "Epoch 19/100\n",
      "29/29 [==============================] - 0s 2ms/step - loss: 0.3739 - accuracy: 0.8806 - val_loss: 0.4390 - val_accuracy: 0.8100\n",
      "Epoch 20/100\n",
      "29/29 [==============================] - 0s 2ms/step - loss: 0.3471 - accuracy: 0.8922 - val_loss: 0.4172 - val_accuracy: 0.8300\n",
      "Epoch 21/100\n",
      "29/29 [==============================] - 0s 2ms/step - loss: 0.3245 - accuracy: 0.8978 - val_loss: 0.3974 - val_accuracy: 0.8500\n",
      "Epoch 22/100\n",
      "29/29 [==============================] - 0s 2ms/step - loss: 0.3034 - accuracy: 0.9028 - val_loss: 0.3803 - val_accuracy: 0.8400\n",
      "Epoch 23/100\n",
      "29/29 [==============================] - 0s 2ms/step - loss: 0.2841 - accuracy: 0.9094 - val_loss: 0.3660 - val_accuracy: 0.8550\n",
      "Epoch 24/100\n",
      "29/29 [==============================] - 0s 2ms/step - loss: 0.2679 - accuracy: 0.9128 - val_loss: 0.3522 - val_accuracy: 0.8500\n",
      "Epoch 25/100\n",
      "29/29 [==============================] - 0s 2ms/step - loss: 0.2539 - accuracy: 0.9211 - val_loss: 0.3409 - val_accuracy: 0.8350\n",
      "Epoch 26/100\n",
      "29/29 [==============================] - 0s 2ms/step - loss: 0.2408 - accuracy: 0.9267 - val_loss: 0.3317 - val_accuracy: 0.8550\n",
      "Epoch 27/100\n",
      "29/29 [==============================] - 0s 2ms/step - loss: 0.2281 - accuracy: 0.9294 - val_loss: 0.3219 - val_accuracy: 0.8600\n",
      "Epoch 28/100\n",
      "29/29 [==============================] - 0s 2ms/step - loss: 0.2175 - accuracy: 0.9278 - val_loss: 0.3130 - val_accuracy: 0.8700\n",
      "Epoch 29/100\n",
      "29/29 [==============================] - 0s 2ms/step - loss: 0.2079 - accuracy: 0.9350 - val_loss: 0.3071 - val_accuracy: 0.8700\n",
      "Epoch 30/100\n",
      "29/29 [==============================] - 0s 2ms/step - loss: 0.1978 - accuracy: 0.9400 - val_loss: 0.3011 - val_accuracy: 0.8900\n",
      "Epoch 31/100\n",
      "29/29 [==============================] - 0s 2ms/step - loss: 0.1901 - accuracy: 0.9428 - val_loss: 0.2991 - val_accuracy: 0.8700\n",
      "Epoch 32/100\n",
      "29/29 [==============================] - 0s 2ms/step - loss: 0.1836 - accuracy: 0.9461 - val_loss: 0.2896 - val_accuracy: 0.8750\n",
      "Epoch 33/100\n",
      "29/29 [==============================] - 0s 2ms/step - loss: 0.1754 - accuracy: 0.9522 - val_loss: 0.2893 - val_accuracy: 0.8800\n",
      "Epoch 34/100\n",
      "29/29 [==============================] - 0s 2ms/step - loss: 0.1690 - accuracy: 0.9500 - val_loss: 0.2820 - val_accuracy: 0.8900\n",
      "Epoch 35/100\n",
      "29/29 [==============================] - 0s 2ms/step - loss: 0.1624 - accuracy: 0.9544 - val_loss: 0.2779 - val_accuracy: 0.8900\n",
      "Epoch 36/100\n",
      "29/29 [==============================] - 0s 2ms/step - loss: 0.1579 - accuracy: 0.9544 - val_loss: 0.2801 - val_accuracy: 0.8900\n",
      "Epoch 37/100\n",
      "29/29 [==============================] - 0s 2ms/step - loss: 0.1520 - accuracy: 0.9600 - val_loss: 0.2750 - val_accuracy: 0.8950\n",
      "Epoch 38/100\n",
      "29/29 [==============================] - 0s 2ms/step - loss: 0.1482 - accuracy: 0.9617 - val_loss: 0.2701 - val_accuracy: 0.8900\n",
      "Epoch 39/100\n",
      "29/29 [==============================] - 0s 2ms/step - loss: 0.1425 - accuracy: 0.9611 - val_loss: 0.2685 - val_accuracy: 0.9000\n",
      "Epoch 40/100\n",
      "29/29 [==============================] - 0s 2ms/step - loss: 0.1386 - accuracy: 0.9617 - val_loss: 0.2634 - val_accuracy: 0.8850\n",
      "Epoch 41/100\n",
      "29/29 [==============================] - 0s 2ms/step - loss: 0.1339 - accuracy: 0.9633 - val_loss: 0.2631 - val_accuracy: 0.8800\n",
      "Epoch 42/100\n",
      "29/29 [==============================] - 0s 2ms/step - loss: 0.1315 - accuracy: 0.9622 - val_loss: 0.2603 - val_accuracy: 0.8900\n",
      "Epoch 43/100\n",
      "29/29 [==============================] - 0s 2ms/step - loss: 0.1268 - accuracy: 0.9689 - val_loss: 0.2579 - val_accuracy: 0.8950\n",
      "Epoch 44/100\n",
      "29/29 [==============================] - 0s 2ms/step - loss: 0.1229 - accuracy: 0.9700 - val_loss: 0.2525 - val_accuracy: 0.8850\n",
      "Epoch 45/100\n",
      "29/29 [==============================] - 0s 2ms/step - loss: 0.1214 - accuracy: 0.9650 - val_loss: 0.2541 - val_accuracy: 0.8850\n",
      "Epoch 46/100\n",
      "29/29 [==============================] - 0s 2ms/step - loss: 0.1169 - accuracy: 0.9700 - val_loss: 0.2565 - val_accuracy: 0.8850\n",
      "Epoch 47/100\n",
      "29/29 [==============================] - 0s 2ms/step - loss: 0.1150 - accuracy: 0.9711 - val_loss: 0.2630 - val_accuracy: 0.8800\n",
      "Epoch 48/100\n",
      "29/29 [==============================] - 0s 2ms/step - loss: 0.1145 - accuracy: 0.9678 - val_loss: 0.2521 - val_accuracy: 0.8900\n",
      "Epoch 49/100\n",
      "29/29 [==============================] - 0s 2ms/step - loss: 0.1075 - accuracy: 0.9739 - val_loss: 0.2547 - val_accuracy: 0.8900\n",
      "Epoch 50/100\n",
      "29/29 [==============================] - 0s 2ms/step - loss: 0.1050 - accuracy: 0.9722 - val_loss: 0.2488 - val_accuracy: 0.8900\n",
      "Epoch 51/100\n",
      "29/29 [==============================] - 0s 2ms/step - loss: 0.1033 - accuracy: 0.9744 - val_loss: 0.2474 - val_accuracy: 0.8850\n",
      "Epoch 52/100\n",
      "29/29 [==============================] - 0s 2ms/step - loss: 0.1002 - accuracy: 0.9733 - val_loss: 0.2529 - val_accuracy: 0.8850\n",
      "Epoch 53/100\n",
      "29/29 [==============================] - 0s 2ms/step - loss: 0.0982 - accuracy: 0.9750 - val_loss: 0.2441 - val_accuracy: 0.8900\n",
      "Epoch 54/100\n",
      "29/29 [==============================] - 0s 2ms/step - loss: 0.0966 - accuracy: 0.9739 - val_loss: 0.2480 - val_accuracy: 0.8850\n",
      "Epoch 55/100\n",
      "29/29 [==============================] - 0s 2ms/step - loss: 0.0940 - accuracy: 0.9761 - val_loss: 0.2445 - val_accuracy: 0.8900\n",
      "Epoch 56/100\n",
      "29/29 [==============================] - 0s 2ms/step - loss: 0.0927 - accuracy: 0.9744 - val_loss: 0.2383 - val_accuracy: 0.8800\n",
      "Epoch 57/100\n",
      "29/29 [==============================] - 0s 2ms/step - loss: 0.0897 - accuracy: 0.9778 - val_loss: 0.2368 - val_accuracy: 0.8900\n",
      "Epoch 58/100\n",
      "29/29 [==============================] - 0s 2ms/step - loss: 0.0879 - accuracy: 0.9756 - val_loss: 0.2398 - val_accuracy: 0.8800\n"
     ]
    },
    {
     "name": "stdout",
     "output_type": "stream",
     "text": [
      "Epoch 59/100\n",
      "29/29 [==============================] - 0s 2ms/step - loss: 0.0855 - accuracy: 0.9772 - val_loss: 0.2425 - val_accuracy: 0.8850\n",
      "Epoch 60/100\n",
      "29/29 [==============================] - 0s 2ms/step - loss: 0.0843 - accuracy: 0.9789 - val_loss: 0.2406 - val_accuracy: 0.8950\n",
      "Epoch 61/100\n",
      "29/29 [==============================] - 0s 2ms/step - loss: 0.0833 - accuracy: 0.9800 - val_loss: 0.2486 - val_accuracy: 0.8850\n",
      "Epoch 62/100\n",
      "29/29 [==============================] - 0s 2ms/step - loss: 0.0804 - accuracy: 0.9806 - val_loss: 0.2364 - val_accuracy: 0.8800\n",
      "Epoch 63/100\n",
      "29/29 [==============================] - 0s 2ms/step - loss: 0.0789 - accuracy: 0.9811 - val_loss: 0.2434 - val_accuracy: 0.8950\n",
      "Epoch 64/100\n",
      "29/29 [==============================] - 0s 2ms/step - loss: 0.0772 - accuracy: 0.9822 - val_loss: 0.2401 - val_accuracy: 0.8850\n",
      "Epoch 65/100\n",
      "29/29 [==============================] - 0s 2ms/step - loss: 0.0755 - accuracy: 0.9844 - val_loss: 0.2379 - val_accuracy: 0.8950\n",
      "Epoch 66/100\n",
      "29/29 [==============================] - 0s 2ms/step - loss: 0.0737 - accuracy: 0.9861 - val_loss: 0.2362 - val_accuracy: 0.8800\n",
      "Epoch 67/100\n",
      "29/29 [==============================] - 0s 2ms/step - loss: 0.0733 - accuracy: 0.9828 - val_loss: 0.2371 - val_accuracy: 0.8950\n",
      "Epoch 68/100\n",
      "29/29 [==============================] - 0s 2ms/step - loss: 0.0719 - accuracy: 0.9822 - val_loss: 0.2354 - val_accuracy: 0.9050\n",
      "Epoch 69/100\n",
      "29/29 [==============================] - 0s 2ms/step - loss: 0.0697 - accuracy: 0.9844 - val_loss: 0.2343 - val_accuracy: 0.8950\n",
      "Epoch 70/100\n",
      "29/29 [==============================] - 0s 2ms/step - loss: 0.0707 - accuracy: 0.9844 - val_loss: 0.2311 - val_accuracy: 0.9000\n",
      "Epoch 71/100\n",
      "29/29 [==============================] - 0s 2ms/step - loss: 0.0672 - accuracy: 0.9867 - val_loss: 0.2287 - val_accuracy: 0.9050\n",
      "Epoch 72/100\n",
      "29/29 [==============================] - 0s 2ms/step - loss: 0.0663 - accuracy: 0.9856 - val_loss: 0.2310 - val_accuracy: 0.9000\n",
      "Epoch 73/100\n",
      "29/29 [==============================] - 0s 2ms/step - loss: 0.0649 - accuracy: 0.9861 - val_loss: 0.2298 - val_accuracy: 0.9000\n",
      "Epoch 74/100\n",
      "29/29 [==============================] - 0s 2ms/step - loss: 0.0654 - accuracy: 0.9867 - val_loss: 0.2265 - val_accuracy: 0.9050\n",
      "Epoch 75/100\n",
      "29/29 [==============================] - 0s 2ms/step - loss: 0.0628 - accuracy: 0.9878 - val_loss: 0.2238 - val_accuracy: 0.9150\n",
      "Epoch 76/100\n",
      "29/29 [==============================] - 0s 2ms/step - loss: 0.0612 - accuracy: 0.9900 - val_loss: 0.2262 - val_accuracy: 0.8950\n",
      "Epoch 77/100\n",
      "29/29 [==============================] - 0s 2ms/step - loss: 0.0600 - accuracy: 0.9878 - val_loss: 0.2252 - val_accuracy: 0.9050\n",
      "Epoch 78/100\n",
      "29/29 [==============================] - 0s 2ms/step - loss: 0.0584 - accuracy: 0.9911 - val_loss: 0.2286 - val_accuracy: 0.9050\n",
      "Epoch 79/100\n",
      "29/29 [==============================] - 0s 2ms/step - loss: 0.0591 - accuracy: 0.9878 - val_loss: 0.2266 - val_accuracy: 0.8900\n",
      "Epoch 80/100\n",
      "29/29 [==============================] - 0s 2ms/step - loss: 0.0565 - accuracy: 0.9894 - val_loss: 0.2265 - val_accuracy: 0.9000\n",
      "Epoch 81/100\n",
      "29/29 [==============================] - 0s 2ms/step - loss: 0.0556 - accuracy: 0.9911 - val_loss: 0.2284 - val_accuracy: 0.9100\n",
      "Epoch 82/100\n",
      "29/29 [==============================] - 0s 2ms/step - loss: 0.0550 - accuracy: 0.9894 - val_loss: 0.2310 - val_accuracy: 0.9000\n",
      "Epoch 83/100\n",
      "29/29 [==============================] - 0s 2ms/step - loss: 0.0550 - accuracy: 0.9889 - val_loss: 0.2253 - val_accuracy: 0.9150\n",
      "Epoch 84/100\n",
      "29/29 [==============================] - 0s 2ms/step - loss: 0.0532 - accuracy: 0.9933 - val_loss: 0.2312 - val_accuracy: 0.9100\n",
      "Epoch 85/100\n",
      "29/29 [==============================] - 0s 2ms/step - loss: 0.0521 - accuracy: 0.9928 - val_loss: 0.2292 - val_accuracy: 0.9000\n",
      "Epoch 86/100\n",
      "29/29 [==============================] - 0s 2ms/step - loss: 0.0511 - accuracy: 0.9928 - val_loss: 0.2244 - val_accuracy: 0.9200\n",
      "Epoch 87/100\n",
      "29/29 [==============================] - 0s 2ms/step - loss: 0.0508 - accuracy: 0.9928 - val_loss: 0.2244 - val_accuracy: 0.9050\n",
      "Epoch 88/100\n",
      "29/29 [==============================] - 0s 2ms/step - loss: 0.0497 - accuracy: 0.9917 - val_loss: 0.2338 - val_accuracy: 0.9000\n",
      "Epoch 89/100\n",
      "29/29 [==============================] - 0s 2ms/step - loss: 0.0504 - accuracy: 0.9900 - val_loss: 0.2317 - val_accuracy: 0.9150\n",
      "Epoch 90/100\n",
      "29/29 [==============================] - 0s 2ms/step - loss: 0.0481 - accuracy: 0.9933 - val_loss: 0.2278 - val_accuracy: 0.9050\n",
      "Epoch 91/100\n",
      "29/29 [==============================] - 0s 2ms/step - loss: 0.0476 - accuracy: 0.9906 - val_loss: 0.2303 - val_accuracy: 0.9050\n",
      "Epoch 92/100\n",
      "29/29 [==============================] - 0s 2ms/step - loss: 0.0463 - accuracy: 0.9922 - val_loss: 0.2305 - val_accuracy: 0.9100\n",
      "Epoch 93/100\n",
      "29/29 [==============================] - 0s 2ms/step - loss: 0.0452 - accuracy: 0.9928 - val_loss: 0.2297 - val_accuracy: 0.9050\n",
      "Epoch 94/100\n",
      "29/29 [==============================] - 0s 2ms/step - loss: 0.0446 - accuracy: 0.9933 - val_loss: 0.2305 - val_accuracy: 0.9100\n",
      "Epoch 95/100\n",
      "29/29 [==============================] - 0s 3ms/step - loss: 0.0436 - accuracy: 0.9939 - val_loss: 0.2287 - val_accuracy: 0.9100\n",
      "Epoch 96/100\n",
      "29/29 [==============================] - 0s 2ms/step - loss: 0.0436 - accuracy: 0.9922 - val_loss: 0.2328 - val_accuracy: 0.9150\n",
      "Epoch 97/100\n",
      "29/29 [==============================] - 0s 2ms/step - loss: 0.0427 - accuracy: 0.9928 - val_loss: 0.2365 - val_accuracy: 0.9150\n",
      "Epoch 98/100\n",
      "29/29 [==============================] - 0s 2ms/step - loss: 0.0424 - accuracy: 0.9933 - val_loss: 0.2377 - val_accuracy: 0.9100\n",
      "Epoch 99/100\n",
      "29/29 [==============================] - 0s 2ms/step - loss: 0.0414 - accuracy: 0.9939 - val_loss: 0.2302 - val_accuracy: 0.9050\n",
      "Epoch 100/100\n",
      "29/29 [==============================] - 0s 2ms/step - loss: 0.0397 - accuracy: 0.9933 - val_loss: 0.2326 - val_accuracy: 0.9100\n"
     ]
    }
   ],
   "source": [
    "history = model.fit(X_train, y_train,validation_data = (X_test,y_test), epochs=100, batch_size=64)"
   ]
  },
  {
   "cell_type": "markdown",
   "id": "0b00abf3",
   "metadata": {},
   "source": [
    "#### Visulaize"
   ]
  },
  {
   "cell_type": "code",
   "execution_count": 27,
   "id": "1c766891",
   "metadata": {},
   "outputs": [
    {
     "data": {
      "image/png": "[encoded data removed]",
      "text/plain": [
       "<Figure size 432x288 with 1 Axes>"
      ]
     },
     "metadata": {
      "needs_background": "light"
     },
     "output_type": "display_data"
    }
   ],
   "source": [
    "# epoch and accruacy\n",
    "#plot to compare train accruacy and test accuracy\n",
    "import matplotlib.pyplot as plt\n",
    "plt.plot(history.history['accuracy'])\n",
    "plt.plot(history.history['val_accuracy'])\n",
    "plt.title('Model accuracy')\n",
    "plt.ylabel('Accuracy')\n",
    "plt.xlabel('Epoch')\n",
    "plt.legend(['Train', 'Test'], loc='upper left')\n",
    "plt.show()"
   ]
  },
  {
   "cell_type": "code",
   "execution_count": 28,
   "id": "45118de3",
   "metadata": {},
   "outputs": [
    {
     "data": {
      "image/png": "[encoded data removed]",
      "text/plain": [
       "<Figure size 432x288 with 1 Axes>"
      ]
     },
     "metadata": {
      "needs_background": "light"
     },
     "output_type": "display_data"
    }
   ],
   "source": [
    "# epoch and loss\n",
    "#plot to compare train lost and test lost\n",
    "plt.plot(history.history['loss']) \n",
    "plt.plot(history.history['val_loss']) \n",
    "plt.title('Model loss') \n",
    "plt.ylabel('Loss') \n",
    "plt.xlabel('Epoch') \n",
    "plt.legend(['Train', 'Test'], loc='upper left') \n",
    "plt.show()"
   ]
  },
  {
   "cell_type": "markdown",
   "id": "c5d5e170",
   "metadata": {},
   "source": [
    "# Conclusion\n",
    "\n",
    "The goal of this machine learning algorithm research is to find the best model/method to predict this dataset. As listed below of our result of examined methods, the best model for our dataset support vector machine classifier with the highest test \n",
    "#### \"i\":  Classifier methods: The best model we find is\"support vector machine\", Test Accuracy: 0.9575  <br/>\n",
    "#### \"ii\": Ensemble method : We are using the best 2 models from classifier methods we found,SVM+KNN, Test Accuracy: 0.9525<br/>\n",
    "#### \"iii\":Deep Learning, Neural Network method: Test Accuracy:0.9100"
   ]
  }
 ],
 "metadata": {
  "kernelspec": {
   "display_name": "Python 3 (ipykernel)",
   "language": "python",
   "name": "python3"
  },
  "language_info": {
   "codemirror_mode": {
    "name": "ipython",
    "version": 3
   },
   "file_extension": ".py",
   "mimetype": "text/x-python",
   "name": "python",
   "nbconvert_exporter": "python",
   "pygments_lexer": "ipython3",
   "version": "3.8.2"
  },
  "toc": {
   "base_numbering": 1,
   "nav_menu": {},
   "number_sections": true,
   "sideBar": true,
   "skip_h1_title": false,
   "title_cell": "Table of Contents",
   "title_sidebar": "Contents",
   "toc_cell": false,
   "toc_position": {},
   "toc_section_display": true,
   "toc_window_display": false
  }
 },
 "nbformat": 4,
 "nbformat_minor": 5
}
